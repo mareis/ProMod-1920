{
 "cells": [
  {
   "cell_type": "code",
   "execution_count": 6,
   "metadata": {},
   "outputs": [
    {
     "name": "stdout",
     "output_type": "stream",
     "text": [
      "Setter sammen etternavn\n",
      "Setter sammen etternavn\n",
      "Setter sammen etternavn\n",
      "Setter sammen etternavn\n"
     ]
    }
   ],
   "source": [
    "fil = open(\"navn.txt\", \"r\")\n",
    "navn_streng = fil.read()\n",
    "navn_liste = [ [\"\"]*2 for i in range(26)]\n",
    "i = 0\n",
    "j = 0\n",
    "for tegn in navn_streng:\n",
    "    if tegn == \" \":\n",
    "        j = 1\n",
    "    \n",
    "    elif tegn == \",\":\n",
    "        j = 0\n",
    "        i += 1\n",
    "    \n",
    "    elif tegn == \"-\":\n",
    "        print('Setter sammen etternavn')\n",
    "    \n",
    "    else: \n",
    "        navn_liste[i][j] += tegn"
   ]
  },
  {
   "cell_type": "code",
   "execution_count": 7,
   "metadata": {},
   "outputs": [
    {
     "name": "stdout",
     "output_type": "stream",
     "text": [
      "[['ADA', 'LOVELACE'], ['ANITA', 'BORG'], ['BARBARA', 'LISKOV'], ['DANA', 'ULERY'], ['DOROTHY', 'DENNING'], ['FRAN', 'ALLEN'], ['GRACE', 'HOPPER'], ['JEANNETTE', 'WING'], ['KAREN', 'SPARCKJONES'], ['MARISSA', 'MAYER'], ['MUFFY', 'CALDER'], ['URSULA', 'MARTIN'], ['WENDY', 'HALL'], ['ALAN', 'TURING'], ['CHRIS', 'STRACHEY'], ['EDGAR', 'CODD'], ['EDSGER', 'DIJKSTRA'], ['JOHN', 'VONNEUMANN'], ['MAURICE', 'WILKES'], ['MOHAMMED', 'ALKHWARIZMI'], ['NIKIAUS', 'WIRTH'], ['PHILIP', 'EMEAGWALI'], ['SERGEY', 'BRIN'], ['TIM', 'BERNERSLEE'], ['TONY', 'HOARE'], ['VINT', 'CERF']]\n"
     ]
    }
   ],
   "source": [
    "print(navn_liste)"
   ]
  },
  {
   "cell_type": "code",
   "execution_count": 8,
   "metadata": {},
   "outputs": [],
   "source": [
    "fil = open(\"bokstaver.txt\", \"r\")\n",
    "bokstaver_streng = fil.read()\n",
    "bokstaver_liste = [ [\"\"]*(19) for i in range(21)]\n",
    "j = 0\n",
    "i = 0\n",
    "for tegn in bokstaver_streng:\n",
    "    if tegn == \" \":\n",
    "        j += 1\n",
    "    elif tegn == \"\\n\":\n",
    "        j = 0\n",
    "        i +=1 \n",
    "    else:\n",
    "        bokstaver_liste[i][j] = tegn"
   ]
  },
  {
   "cell_type": "code",
   "execution_count": 9,
   "metadata": {},
   "outputs": [
    {
     "name": "stdout",
     "output_type": "stream",
     "text": [
      "[['N', 'K', 'R', 'E', 'C', 'S', 'N', 'I', 'R', 'U', 'T', 'J', 'E', 'A', 'L', 'U', 'S', 'R', 'U'], ['A', 'A', 'E', 'F', 'R', 'E', 'C', 'A', 'C', 'N', 'I', 'U', 'E', 'W', 'V', 'N', 'H', 'O', 'J'], ['M', 'R', 'O', 'M', 'A', 'K', 'B', 'R', 'I', 'T', 'M', 'O', 'R', 'N', 'H', 'F', 'B', 'Y', 'V'], ['H', 'E', 'A', 'D', 'A', 'L', 'O', 'V', 'E', 'L', 'A', 'C', 'E', 'I', 'M', 'R', 'R', 'S', 'P'], ['C', 'N', 'N', 'I', 'W', 'I', 'R', 'T', 'H', 'O', 'O', 'O', 'P', 'K', 'R', 'A', 'I', 'E', 'H'], ['L', 'S', 'I', 'J', 'P', 'W', 'E', 'N', 'D', 'Y', 'H', 'A', 'L', 'L', 'E', 'N', 'N', 'R', 'I'], ['E', 'P', 'T', 'K', 'K', 'K', 'N', 'V', 'O', 'K', 'S', 'I', 'L', 'A', 'Y', 'I', 'F', 'G', 'L'], ['W', 'A', 'A', 'S', 'C', 'H', 'M', 'A', 'U', 'R', 'I', 'S', 'E', 'U', 'A', 'V', 'Z', 'E', 'I'], ['N', 'R', 'G', 'T', 'A', 'W', 'E', 'E', 'L', 'T', 'R', 'U', 'M', 'S', 'M', 'R', 'S', 'Y', 'P'], ['O', 'C', 'G', 'R', 'O', 'B', 'G', 'E', 'F', 'A', 'J', 'E', 'A', 'N', 'N', 'E', 'T', 'T', 'E'], ['D', 'K', 'Y', 'A', 'A', 'N', 'W', 'X', 'G', 'A', 'R', 'D', 'R', 'L', 'A', 'D', 'I', 'M', 'M'], ['R', 'J', 'H', 'G', 'I', 'C', 'O', 'D', 'D', 'A', 'Z', 'S', 'T', 'O', 'S', 'L', 'M', 'O', 'E'], ['O', 'O', 'T', 'W', 'O', 'O', 'E', 'S', 'O', 'H', 'J', 'G', 'I', 'O', 'S', 'A', 'Z', 'H', 'A'], ['G', 'N', 'O', 'N', 'T', 'P', 'I', 'H', 'E', 'D', 'S', 'E', 'N', 'P', 'I', 'C', 'I', 'A', 'G'], ['R', 'E', 'R', 'E', 'H', 'R', 'Y', 'E', 'O', 'B', 'A', 'R', 'B', 'A', 'R', 'A', 'R', 'M', 'W'], ['A', 'S', 'O', 'U', 'H', 'N', 'C', 'I', 'J', 'P', 'D', 'C', 'G', 'K', 'A', 'L', 'A', 'M', 'A'], ['C', 'B', 'D', 'C', 'O', 'I', 'U', 'H', 'E', 'L', 'P', 'M', 'N', 'Y', 'M', 'M', 'W', 'E', 'L'], ['E', 'O', 'S', 'T', 'R', 'A', 'C', 'H', 'E', 'Y', 'D', 'E', 'I', 'C', 'R', 'N', 'H', 'D', 'I'], ['L', 'R', 'P', 'U', 'D', 'E', 'N', 'N', 'I', 'N', 'G', 'E', 'R', 'O', 'O', 'E', 'K', 'B', 'P'], ['E', 'N', 'A', 'W', 'S', 'R', 'E', 'N', 'R', 'E', 'B', 'M', 'U', 'F', 'F', 'Y', 'L', 'R', 'Q'], ['E', 'M', 'V', 'O', 'N', 'N', 'E', 'U', 'M', 'A', 'N', 'N', 'T', 'D', 'A', 'N', 'A', 'U', 'A']]\n"
     ]
    }
   ],
   "source": [
    "print(bokstaver_liste)"
   ]
  },
  {
   "cell_type": "code",
   "execution_count": 10,
   "metadata": {},
   "outputs": [],
   "source": [
    "def returner_liste_indekser(bokstav):\n",
    "    indeksliste = []\n",
    "    for i in range(len(bokstaver_liste)):\n",
    "        for j in range(len(bokstaver_liste[0])):\n",
    "            if bokstav == bokstaver_liste[i][j]:\n",
    "                indeksliste.append([i,j])\n",
    "    return indeksliste      "
   ]
  },
  {
   "cell_type": "code",
   "execution_count": 72,
   "metadata": {},
   "outputs": [
    {
     "data": {
      "text/plain": [
       "[[0, 13],\n",
       " [1, 0],\n",
       " [1, 1],\n",
       " [1, 7],\n",
       " [2, 4],\n",
       " [3, 2],\n",
       " [3, 4],\n",
       " [3, 10],\n",
       " [4, 15],\n",
       " [5, 11],\n",
       " [6, 13],\n",
       " [7, 1],\n",
       " [7, 2],\n",
       " [7, 7],\n",
       " [7, 14],\n",
       " [8, 4],\n",
       " [9, 9],\n",
       " [9, 12],\n",
       " [10, 3],\n",
       " [10, 4],\n",
       " [10, 9],\n",
       " [10, 14],\n",
       " [11, 9],\n",
       " [12, 15],\n",
       " [12, 18],\n",
       " [13, 17],\n",
       " [14, 10],\n",
       " [14, 13],\n",
       " [14, 15],\n",
       " [15, 0],\n",
       " [15, 14],\n",
       " [15, 16],\n",
       " [15, 18],\n",
       " [17, 5],\n",
       " [19, 2],\n",
       " [20, 9],\n",
       " [20, 14],\n",
       " [20, 16],\n",
       " [20, 18]]"
      ]
     },
     "execution_count": 72,
     "metadata": {},
     "output_type": "execute_result"
    }
   ],
   "source": [
    "def returner_liste_\n",
    "returner_liste_indekser('A')"
   ]
  },
  {
   "cell_type": "code",
   "execution_count": 22,
   "metadata": {},
   "outputs": [
    {
     "name": "stdout",
     "output_type": "stream",
     "text": [
      "[['n', 'k', 'r', 'e', 'c', 's', 'n', 'i', 'r', 'u', 't', 'j', 'e', 'A', 'l', 'u', 's', 'r', 'u'], ['A', 'A', 'e', 'f', 'r', 'e', 'c', 'A', 'c', 'n', 'i', 'u', 'e', 'w', 'v', 'n', 'h', 'o', 'j'], ['m', 'r', 'o', 'm', 'A', 'k', 'b', 'r', 'i', 't', 'm', 'o', 'r', 'n', 'h', 'f', 'b', 'y', 'v'], ['h', 'e', 'A', 'd', 'A', 'l', 'o', 'v', 'e', 'l', 'A', 'c', 'e', 'i', 'm', 'r', 'r', 's', 'p'], ['c', 'n', 'n', 'i', 'w', 'i', 'r', 't', 'h', 'o', 'o', 'o', 'p', 'k', 'r', 'A', 'i', 'e', 'h'], ['l', 's', 'i', 'j', 'p', 'w', 'e', 'n', 'd', 'y', 'h', 'A', 'l', 'l', 'e', 'n', 'n', 'r', 'i'], ['e', 'p', 't', 'k', 'k', 'k', 'n', 'v', 'o', 'k', 's', 'i', 'l', 'A', 'y', 'i', 'f', 'g', 'l'], ['w', 'A', 'A', 's', 'c', 'h', 'm', 'A', 'u', 'r', 'i', 's', 'e', 'u', 'A', 'v', 'z', 'e', 'i'], ['n', 'r', 'g', 't', 'A', 'w', 'e', 'e', 'l', 't', 'r', 'u', 'm', 's', 'm', 'r', 's', 'y', 'p'], ['o', 'c', 'g', 'r', 'o', 'b', 'g', 'e', 'f', 'A', 'j', 'e', 'A', 'n', 'n', 'e', 't', 't', 'e'], ['d', 'k', 'y', 'A', 'A', 'n', 'w', 'x', 'g', 'A', 'r', 'd', 'r', 'l', 'A', 'd', 'i', 'm', 'm'], ['r', 'j', 'h', 'g', 'i', 'c', 'o', 'd', 'd', 'A', 'z', 's', 't', 'o', 's', 'l', 'm', 'o', 'e'], ['o', 'o', 't', 'w', 'o', 'o', 'e', 's', 'o', 'h', 'j', 'g', 'i', 'o', 's', 'A', 'z', 'h', 'A'], ['g', 'n', 'o', 'n', 't', 'p', 'i', 'h', 'e', 'd', 's', 'e', 'n', 'p', 'i', 'c', 'i', 'A', 'g'], ['r', 'e', 'r', 'e', 'h', 'r', 'y', 'e', 'o', 'b', 'A', 'r', 'b', 'A', 'r', 'A', 'r', 'm', 'w'], ['A', 's', 'o', 'u', 'h', 'n', 'c', 'i', 'j', 'p', 'd', 'c', 'g', 'k', 'A', 'l', 'A', 'm', 'A'], ['c', 'b', 'd', 'c', 'o', 'i', 'u', 'h', 'e', 'l', 'p', 'm', 'n', 'y', 'm', 'm', 'w', 'e', 'l'], ['e', 'o', 's', 't', 'r', 'A', 'c', 'h', 'e', 'y', 'd', 'e', 'i', 'c', 'r', 'n', 'h', 'd', 'i'], ['l', 'r', 'p', 'u', 'd', 'e', 'n', 'n', 'i', 'n', 'g', 'e', 'r', 'o', 'o', 'e', 'k', 'b', 'p'], ['e', 'n', 'A', 'w', 's', 'r', 'e', 'n', 'r', 'e', 'b', 'm', 'u', 'f', 'f', 'y', 'l', 'r', 'q'], ['e', 'm', 'v', 'o', 'n', 'n', 'e', 'u', 'm', 'A', 'n', 'n', 't', 'd', 'A', 'n', 'A', 'u', 'A']]\n"
     ]
    }
   ],
   "source": [
    "def vis_bokstaver(koordinater):\n",
    "    for i in range(len(bokstaver_liste)):\n",
    "        for j in range(len(bokstaver_liste[0])):\n",
    "            bokstaver_liste[i][j] = bokstaver_liste[i][j].lower()\n",
    "    \n",
    "    for koordinat in koordinater:\n",
    "        bokstaver_liste[koordinat[0]][koordinat[1]] = bokstaver_liste[koordinat[0]][koordinat[1]].upper()\n",
    "        \n",
    "    print(bokstaver_liste)\n",
    "            \n",
    "vis_bokstaver(returner_liste_indekser('A'))               "
   ]
  },
  {
   "cell_type": "code",
   "execution_count": 14,
   "metadata": {},
   "outputs": [
    {
     "data": {
      "text/plain": [
       "0"
      ]
     },
     "execution_count": 14,
     "metadata": {},
     "output_type": "execute_result"
    }
   ],
   "source": [
    "returner_liste_indekser('A')[0]"
   ]
  },
  {
   "cell_type": "code",
   "execution_count": null,
   "metadata": {},
   "outputs": [],
   "source": []
  }
 ],
 "metadata": {
  "kernelspec": {
   "display_name": "Python 3",
   "language": "python",
   "name": "python3"
  },
  "language_info": {
   "codemirror_mode": {
    "name": "ipython",
    "version": 3
   },
   "file_extension": ".py",
   "mimetype": "text/x-python",
   "name": "python",
   "nbconvert_exporter": "python",
   "pygments_lexer": "ipython3",
   "version": "3.7.3"
  }
 },
 "nbformat": 4,
 "nbformat_minor": 4
}
