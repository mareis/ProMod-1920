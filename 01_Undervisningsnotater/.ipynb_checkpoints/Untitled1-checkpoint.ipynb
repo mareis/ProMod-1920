{
 "cells": [
  {
   "cell_type": "markdown",
   "metadata": {},
   "source": [
    "# Stor overskrift\n",
    "## Ganske stor\n",
    "\n",
    "vanlig\n",
    "**Bold**\n",
    "*Italic*\n",
    "___\n",
    "1. el1\n",
    "2. el2\n",
    "\n",
    "- 1\n",
    "- 2\n",
    "- 3\n",
    "\n",
    "$$\\frac{\\alpha}{5}\\cdot\\frac{1}{2}x^2$$\n"
   ]
  },
  {
   "cell_type": "markdown",
   "metadata": {},
   "source": [
    "5! = 5*4*3*2*1\n",
    "\n",
    "5! = 5*4!\n",
    "\n",
    "n! = n*(n-1)*(n-2)*...*1\n",
    "\n",
    "n! = n*(n-1)!"
   ]
  },
  {
   "cell_type": "code",
   "execution_count": 11,
   "metadata": {},
   "outputs": [],
   "source": [
    "N = 10000\n",
    "n = 1\n",
    "for x in range(1, N+1):\n",
    "    n *= x;\n",
    "\n"
   ]
  },
  {
   "cell_type": "code",
   "execution_count": 5,
   "metadata": {},
   "outputs": [
    {
     "name": "stdout",
     "output_type": "stream",
     "text": [
      "5\n",
      "4\n",
      "3\n",
      "2\n",
      "1\n"
     ]
    },
    {
     "data": {
      "text/plain": [
       "120"
      ]
     },
     "execution_count": 5,
     "metadata": {},
     "output_type": "execute_result"
    }
   ],
   "source": [
    "def rekursjon_fakultet(n):\n",
    "    print(n)\n",
    "    if n <= 1:\n",
    "        return 1\n",
    "    return n*rekursjon_fakultet(n-1)\n",
    "\n",
    "rekursjon_fakultet(10000)\n",
    "\n",
    "print(\"Ferdig\")"
   ]
  },
  {
   "cell_type": "code",
   "execution_count": null,
   "metadata": {},
   "outputs": [],
   "source": []
  }
 ],
 "metadata": {
  "kernelspec": {
   "display_name": "Python 3",
   "language": "python",
   "name": "python3"
  },
  "language_info": {
   "codemirror_mode": {
    "name": "ipython",
    "version": 3
   },
   "file_extension": ".py",
   "mimetype": "text/x-python",
   "name": "python",
   "nbconvert_exporter": "python",
   "pygments_lexer": "ipython3",
   "version": "3.7.5"
  }
 },
 "nbformat": 4,
 "nbformat_minor": 4
}
