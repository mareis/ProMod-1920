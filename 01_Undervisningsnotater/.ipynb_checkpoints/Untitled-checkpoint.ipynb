{
 "cells": [
  {
   "cell_type": "code",
   "execution_count": 8,
   "metadata": {},
   "outputs": [
    {
     "name": "stdout",
     "output_type": "stream",
     "text": [
      "3700.0, 3792.5\n",
      "3700.0, 11472.3\n",
      "3700.0, 27023.9\n",
      "3700.0, 58516.0\n",
      "3700.0, 122287.3\n"
     ]
    }
   ],
   "source": [
    "k = 1.025\n",
    "innskudd = 3700\n",
    "beløp = 0\n",
    "for i in range(5):\n",
    "    #innskudd *= 1.02\n",
    "    beløp += (beløp + innskudd)*k\n",
    "    print(f'{innskudd:.1f}, {beløp:.1f}')"
   ]
  },
  {
   "cell_type": "code",
   "execution_count": null,
   "metadata": {},
   "outputs": [],
   "source": []
  }
 ],
 "metadata": {
  "kernelspec": {
   "display_name": "Python 3",
   "language": "python",
   "name": "python3"
  },
  "language_info": {
   "codemirror_mode": {
    "name": "ipython",
    "version": 3
   },
   "file_extension": ".py",
   "mimetype": "text/x-python",
   "name": "python",
   "nbconvert_exporter": "python",
   "pygments_lexer": "ipython3",
   "version": "3.7.4"
  }
 },
 "nbformat": 4,
 "nbformat_minor": 4
}
