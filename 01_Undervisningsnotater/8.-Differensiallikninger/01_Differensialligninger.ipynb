{
 "cells": [
  {
   "cell_type": "markdown",
   "metadata": {},
   "source": [
    "# 8. Differensialligninger\n",
    "\n",
    "En diffligning er en ligning på formen\n",
    "\n",
    "$$y^\\prime(t)=f(y(t),t)$$\n",
    "$$y(0)=y_0$$\n",
    "\n",
    "der $f$ er en gitt funksjon og $y(0)=y_0$ en startbetingelse. Vi ønsker å finne $y(t)$ for alle $t$\n",
    "\n"
   ]
  },
  {
   "cell_type": "markdown",
   "metadata": {},
   "source": [
    "Eksempel: $y^\\prime(t)=a \\cdot y(t)$ der $a\\in\\mathbb{R}$ sier at $y(t)$ vokser ($y^\\prime(t)$) proporsjonalt med seg selv ($ax(t)$) (f.eks kroner på konto, antall individer i en populasjon av dyr/bakterier/osv). "
   ]
  },
  {
   "cell_type": "markdown",
   "metadata": {},
   "source": [
    "## Eulers metode. \n",
    "___\n",
    "\n",
    "<img src='euler3.png' width='800px'>\n",
    "\n",
    "“Neste $y$ er forrige $y$ pluss $h$ ganger endringsrate”. I rekkefølge beregnes $y_0$, $y_1$, $y_2$.....\n",
    "\n",
    "Tenk deg at vi skal beregne formen på en ukjent kurve til $y(t)$ (den blå grafen over) som starter ved et gitt punkt og tilfredstiller differensialligningen  $y^\\prime(t)=f(t, y(t))$. Her kan vi bruke differensialligningen som en formel for å beregne stigningtallet til tangentlinjen til kurven hvor som helst på kurven når posisjonen til det punktet er beregnet.\n",
    "\n",
    "Tanken er at mens kurven i utgangspunktet er ukjent, er utgangspunktet $(t_0, y_0)$ kjent. Derfra kan vi bruke differensialligningen til å beregne en tilnærming til den momentane vekstfarten til y og stigningtallet til tangentlinjen.\n",
    "\n",
    "\n",
    "Ta et lite steg langs tangentlinja til punktet $(t_1, y_1)$ I dette lille steget vil ikke vekstfarten til kurven endre seg så mye. Det betyr at $(t_1, y_1)$ vil være veldig nærme kurven vi ønsker å tilnærme. Slik gjentar vi prosessen. Velger vi små nok steg vil tilnærmingen være svært god.\n",
    "\n",
    "\n",
    "Likning: $y^\\prime(t)=f(t, y(t)), \\; y(0)=y_0$\n",
    "\n",
    "I punktet $x_k=k\\cdot h$ tilnærmer vi \n",
    "\n",
    "$y^\\prime = \\frac{y_{k+1}-y_k}{h}$\n",
    "\n",
    "\n",
    "og setter inn i likningen og løser den med hensyn på $y_{k+1}$\n",
    "\n",
    "\\begin{align}\n",
    "\\frac{y_{k+1}-y_k}{h} & = f(t_k, y_k)\\\\\n",
    "y_{k+1}-y_k & = h\\cdot f(t_k, y_k)\\\\\n",
    "y_{k+1} & = y_k + h\\cdot f(t_k, y_k)\\\\\n",
    "\\end{align}\n",
    "___"
   ]
  },
  {
   "cell_type": "markdown",
   "metadata": {},
   "source": [
    "<a href='https://www.geogebra.org/m/q9csTDeZ'>GeoGebra</a>"
   ]
  },
  {
   "cell_type": "markdown",
   "metadata": {},
   "source": [
    "## Eksemplene fra boka"
   ]
  },
  {
   "cell_type": "code",
   "execution_count": 2,
   "metadata": {},
   "outputs": [
    {
     "data": {
      "image/png": "[encoded data removed]",
      "text/plain": [
       "<Figure size 432x288 with 1 Axes>"
      ]
     },
     "metadata": {
      "needs_background": "light"
     },
     "output_type": "display_data"
    }
   ],
   "source": [
    "import numpy as np\n",
    "import matplotlib.pyplot as plt\n",
    "\n",
    "def f(x, i):\n",
    "    return 1    \n",
    "\n",
    "y_0 = 0 #startbetingelse (x(a)=x_0)  \n",
    "dt = 2**(-7) #steglengde\n",
    "T = 5 # tid etter start a\n",
    "N = round(T/dt) #Tid delt på steglengde\n",
    "t = np.linspace(0, T, N+1)\n",
    "y = np.zeros(N+1)\n",
    "\n",
    "# Fyller arrayet med funskjonsverdier\n",
    "y[0] = y_0 \n",
    "for i in range(N):\n",
    "    y[i + 1] = y[i] + f(y[i], i)*dt\n",
    "    \n",
    "plt.plot(t, y)\n",
    "plt.show()"
   ]
  },
  {
   "cell_type": "code",
   "execution_count": 4,
   "metadata": {},
   "outputs": [
    {
     "data": {
      "image/png": "[encoded data removed]",
      "text/plain": [
       "<Figure size 432x288 with 1 Axes>"
      ]
     },
     "metadata": {
      "needs_background": "light"
     },
     "output_type": "display_data"
    }
   ],
   "source": [
    "import numpy as np\n",
    "import matplotlib.pyplot as plt\n",
    "\n",
    "def f(x, i):\n",
    "    return x + i   \n",
    "\n",
    "y_0 = 0 #startbetingelse (x(a)=x_0)  \n",
    "dt = 2**(-6) #steglengde\n",
    "T = 5 # tid etter start a\n",
    "N = round(T/dt) #Tid delt på steglengde\n",
    "t = np.linspace(0, T, N+1)\n",
    "y = np.zeros(N+1)\n",
    "\n",
    "# Fyller arrayet med funskjonsverdier\n",
    "y[0] = y_0 \n",
    "for i in range(N):\n",
    "    y[i+1] = y[i] + f(y[i], i)*dt\n",
    "    \n",
    "plt.plot(t, y)\n",
    "plt.show()"
   ]
  },
  {
   "cell_type": "code",
   "execution_count": null,
   "metadata": {},
   "outputs": [],
   "source": []
  },
  {
   "cell_type": "code",
   "execution_count": null,
   "metadata": {},
   "outputs": [],
   "source": []
  }
 ],
 "metadata": {
  "kernelspec": {
   "display_name": "Python 3",
   "language": "python",
   "name": "python3"
  },
  "language_info": {
   "codemirror_mode": {
    "name": "ipython",
    "version": 3
   },
   "file_extension": ".py",
   "mimetype": "text/x-python",
   "name": "python",
   "nbconvert_exporter": "python",
   "pygments_lexer": "ipython3",
   "version": "3.7.5"
  }
 },
 "nbformat": 4,
 "nbformat_minor": 4
}
