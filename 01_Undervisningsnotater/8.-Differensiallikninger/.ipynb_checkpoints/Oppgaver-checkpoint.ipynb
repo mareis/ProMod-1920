{
 "cells": [
  {
   "cell_type": "markdown",
   "metadata": {},
   "source": [
    "Oppgave 8.2\n",
    "\n",
    "1)\n",
    "\n",
    "$y^\\prime(t)=1,\\; y(0)=0$\n"
   ]
  },
  {
   "cell_type": "code",
   "execution_count": 21,
   "metadata": {},
   "outputs": [
    {
     "data": {
      "image/png": "[encoded data removed]",
      "text/plain": [
       "<Figure size 432x288 with 1 Axes>"
      ]
     },
     "metadata": {
      "needs_background": "light"
     },
     "output_type": "display_data"
    }
   ],
   "source": [
    "y_0 = 0   #Startbetingelse\n",
    "t_0 = 0   #Første tid\n",
    "T   = 5   #Tid etter t_0\n",
    "h   = 0.1 #Steglengde\n",
    "N   = round(T/h) #Antall steg\n",
    "\n",
    "import numpy as np\n",
    "y = np.zeros(N+1) # antall\n",
    "t = np.linspace(t_0, T, N+1) # Fra , til , antall\n",
    "\n",
    "y[0] = y_0\n",
    "\n",
    "def f(y_k, t):\n",
    "    return 1\n",
    "\n",
    "for k in range(N):\n",
    "    y[k+1] = y[k] + h * f(y[k], k)\n",
    "    \n",
    "import matplotlib.pyplot as plt\n",
    "\n",
    "plt.plot(y,t)\n",
    "plt.show()"
   ]
  },
  {
   "cell_type": "markdown",
   "metadata": {},
   "source": [
    "2)\n",
    "\n",
    "$y^\\prime(t)=t,\\; y(0)=0$"
   ]
  },
  {
   "cell_type": "code",
   "execution_count": 22,
   "metadata": {},
   "outputs": [
    {
     "data": {
      "image/png": "[encoded data removed]",
      "text/plain": [
       "<Figure size 432x288 with 1 Axes>"
      ]
     },
     "metadata": {
      "needs_background": "light"
     },
     "output_type": "display_data"
    }
   ],
   "source": [
    "y_0 = 0   #Startbetingelse\n",
    "t_0 = 0   #Første tid\n",
    "T   = 5   #Tid etter t_0\n",
    "h   = 0.1 #Steglengde\n",
    "N   = round(T/h) #Antall steg\n",
    "\n",
    "import numpy as np\n",
    "y = np.zeros(N+1) # antall\n",
    "t = np.linspace(t_0, T, N+1) # Fra , til , antall\n",
    "\n",
    "y[0] = y_0\n",
    "\n",
    "def f(y_k, t):\n",
    "    return k\n",
    "\n",
    "for k in range(N):\n",
    "    y[k+1] = y[k] + h * f(y[k], k)\n",
    "    \n",
    "import matplotlib.pyplot as plt\n",
    "\n",
    "plt.plot(y,t)\n",
    "plt.show()"
   ]
  },
  {
   "cell_type": "markdown",
   "metadata": {},
   "source": [
    "3)\n",
    "\n",
    "$y^\\prime(t)=4+3\\cdot y(t),\\; y(0)=0$"
   ]
  },
  {
   "cell_type": "code",
   "execution_count": null,
   "metadata": {},
   "outputs": [],
   "source": []
  },
  {
   "cell_type": "markdown",
   "metadata": {},
   "source": [
    "For å forenkle notasjonen skriver man ofte $y(t)=y$ og $y^\\prime(t)=y^\\prime$"
   ]
  },
  {
   "cell_type": "markdown",
   "metadata": {},
   "source": [
    "4)\n",
    "\n",
    "$y^\\prime+4y+3t=0,\\; y_0=0$"
   ]
  },
  {
   "cell_type": "code",
   "execution_count": null,
   "metadata": {},
   "outputs": [],
   "source": []
  },
  {
   "cell_type": "markdown",
   "metadata": {},
   "source": [
    "5)\n",
    "\n",
    "$t\\cdot y^\\prime+y=3t^2+4t,\\; y_0=0$"
   ]
  },
  {
   "cell_type": "code",
   "execution_count": null,
   "metadata": {},
   "outputs": [],
   "source": []
  },
  {
   "cell_type": "code",
   "execution_count": null,
   "metadata": {},
   "outputs": [],
   "source": []
  }
 ],
 "metadata": {
  "kernelspec": {
   "display_name": "Python 3",
   "language": "python",
   "name": "python3"
  },
  "language_info": {
   "codemirror_mode": {
    "name": "ipython",
    "version": 3
   },
   "file_extension": ".py",
   "mimetype": "text/x-python",
   "name": "python",
   "nbconvert_exporter": "python",
   "pygments_lexer": "ipython3",
   "version": "3.7.1"
  }
 },
 "nbformat": 4,
 "nbformat_minor": 2
}
