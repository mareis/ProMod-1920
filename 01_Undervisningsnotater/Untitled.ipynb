{
 "cells": [
  {
   "cell_type": "code",
   "execution_count": 16,
   "metadata": {},
   "outputs": [
    {
     "name": "stdout",
     "output_type": "stream",
     "text": [
      "3774.0, 3868.3\n",
      "3849.5, 7910.8\n",
      "3926.5, 12133.2\n",
      "4005.0, 16541.6\n",
      "4085.1, 21142.4\n",
      "4166.8, 25941.9\n",
      "4250.1, 30946.9\n",
      "4335.1, 36164.1\n",
      "4421.8, 41600.5\n",
      "4510.3, 47263.6\n",
      "4600.5, 53160.7\n",
      "4692.5, 59299.5\n",
      "4786.3, 65688.0\n",
      "4882.1, 72334.3\n",
      "4979.7, 79246.9\n",
      "5079.3, 86434.3\n",
      "5180.9, 93905.6\n",
      "5284.5, 101669.9\n"
     ]
    }
   ],
   "source": [
    "k = 1.025\n",
    "innskudd = 3700\n",
    "beløp = 0\n",
    "for i in range(18):\n",
    "    innskudd *= 1.02\n",
    "    beløp = (beløp + innskudd)*k\n",
    "    print(f'{innskudd:.1f}, {beløp:.1f}')"
   ]
  },
  {
   "cell_type": "code",
   "execution_count": 23,
   "metadata": {},
   "outputs": [
    {
     "name": "stdout",
     "output_type": "stream",
     "text": [
      "30000.0, 916964.7\n",
      "30000.0, 924697.9\n",
      "30000.0, 929006.3\n",
      "30000.0, 929337.4\n",
      "30000.0, 925073.3\n",
      "30000.0, 915522.7\n",
      "30000.0, 899914.3\n",
      "30000.0, 877387.0\n",
      "30000.0, 846981.0\n",
      "30000.0, 807627.1\n",
      "30000.0, 758135.3\n",
      "30000.0, 697181.6\n",
      "30000.0, 623294.1\n",
      "30000.0, 534837.6\n",
      "30000.0, 429996.2\n",
      "30000.0, 306754.3\n",
      "30000.0, 162876.2\n"
     ]
    }
   ],
   "source": [
    "k = 1.05\n",
    "uttak = 30000\n",
    "beløp = 906299.6707055\n",
    "for i in range(1,18):\n",
    "    beløp = (beløp - uttak*1.1**i)*k\n",
    "    print(f'{uttak:.1f}, {beløp:.1f}')"
   ]
  },
  {
   "cell_type": "code",
   "execution_count": null,
   "metadata": {},
   "outputs": [],
   "source": []
  }
 ],
 "metadata": {
  "kernelspec": {
   "display_name": "Python 3",
   "language": "python",
   "name": "python3"
  },
  "language_info": {
   "codemirror_mode": {
    "name": "ipython",
    "version": 3
   },
   "file_extension": ".py",
   "mimetype": "text/x-python",
   "name": "python",
   "nbconvert_exporter": "python",
   "pygments_lexer": "ipython3",
   "version": "3.7.5"
  }
 },
 "nbformat": 4,
 "nbformat_minor": 4
}
