{
 "cells": [
  {
   "cell_type": "markdown",
   "metadata": {},
   "source": [
    "# Stor overskrift\n",
    "## Ganske stor\n",
    "\n",
    "vanlig\n",
    "**Bold**\n",
    "*Italic*\n",
    "___\n",
    "1. el1\n",
    "2. el2\n",
    "\n",
    "- 1\n",
    "- 2\n",
    "- 3\n",
    "\n",
    "$$\\frac{\\alpha}{5}\\cdot\\frac{1}{2}x^2$$\n"
   ]
  },
  {
   "cell_type": "markdown",
   "metadata": {},
   "source": [
    "5! = 5*4*3*2*1\n",
    "\n",
    "5! = 5*4!\n",
    "\n",
    "n! = n*(n-1)*(n-2)*...*1\n",
    "\n",
    "n! = n*(n-1)!"
   ]
  },
  {
   "cell_type": "code",
   "execution_count": 17,
   "metadata": {},
   "outputs": [
    {
     "name": "stdout",
     "output_type": "stream",
     "text": [
      "CPU times: user 423 µs, sys: 0 ns, total: 423 µs\n",
      "Wall time: 428 µs\n"
     ]
    }
   ],
   "source": [
    "%%time\n",
    "N = 1000\n",
    "n = 1\n",
    "for x in range(1, N+1):\n",
    "    n *= x;"
   ]
  },
  {
   "cell_type": "code",
   "execution_count": 18,
   "metadata": {},
   "outputs": [
    {
     "name": "stdout",
     "output_type": "stream",
     "text": [
      "Ferdig\n",
      "CPU times: user 883 µs, sys: 196 µs, total: 1.08 ms\n",
      "Wall time: 1.01 ms\n"
     ]
    }
   ],
   "source": [
    "%%time\n",
    "def rekursjon_fakultet(n):\n",
    "    if n <= 1:\n",
    "        return 1\n",
    "    return n*rekursjon_fakultet(n-1)\n",
    "\n",
    "rekursjon_fakultet(1000)\n",
    "\n",
    "print(\"Ferdig\")"
   ]
  },
  {
   "cell_type": "code",
   "execution_count": null,
   "metadata": {},
   "outputs": [],
   "source": []
  }
 ],
 "metadata": {
  "kernelspec": {
   "display_name": "Python 3",
   "language": "python",
   "name": "python3"
  },
  "language_info": {
   "codemirror_mode": {
    "name": "ipython",
    "version": 3
   },
   "file_extension": ".py",
   "mimetype": "text/x-python",
   "name": "python",
   "nbconvert_exporter": "python",
   "pygments_lexer": "ipython3",
   "version": "3.7.5"
  }
 },
 "nbformat": 4,
 "nbformat_minor": 4
}
