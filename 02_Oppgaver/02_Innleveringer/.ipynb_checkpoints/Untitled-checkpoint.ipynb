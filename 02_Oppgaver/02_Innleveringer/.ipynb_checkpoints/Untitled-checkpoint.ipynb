{
 "cells": [
  {
   "cell_type": "code",
   "execution_count": 1,
   "metadata": {},
   "outputs": [
    {
     "data": {
      "text/plain": [
       "array([[nan,  1., nan],\n",
       "       [nan,  1., nan],\n",
       "       [ 0.,  1., nan]])"
      ]
     },
     "execution_count": 1,
     "metadata": {},
     "output_type": "execute_result"
    }
   ],
   "source": [
    "import numpy as np\n",
    "brett = np.zeros(shape=(3,3))*np.nan\n",
    "brett[:,1] = 1\n",
    "brett[2, 0] = 0\n",
    "brett"
   ]
  },
  {
   "cell_type": "code",
   "execution_count": 2,
   "metadata": {},
   "outputs": [],
   "source": [
    "def tre_paa_rad(brett, spiller):\n",
    "    sum = spiller*3\n",
    "    return kolonner(brett, sum) or rader(brett, sum) or diagonal1(brett, sum) or diagonal2(brett, sum)\n",
    "    \n",
    "def kolonner(brett, sum):\n",
    "    return np.any(np.sum(brett, axis=0) == sum)\n",
    "\n",
    "def rader(brett, sum):\n",
    "    return np.any(np.sum(brett, axis=1) == sum)\n",
    "\n",
    "def diagonal1(brett, sum):\n",
    "    return np.sum(np.diagonal(brett)) == sum\n",
    "\n",
    "def diagonal2(brett, sum):\n",
    "    return np.sum(np.diagonal(np.rot90(brett2))) == sum"
   ]
  },
  {
   "cell_type": "code",
   "execution_count": 3,
   "metadata": {},
   "outputs": [
    {
     "data": {
      "text/plain": [
       "True"
      ]
     },
     "execution_count": 3,
     "metadata": {},
     "output_type": "execute_result"
    }
   ],
   "source": [
    "tre_paa_rad(brett, 1)"
   ]
  },
  {
   "cell_type": "code",
   "execution_count": 4,
   "metadata": {},
   "outputs": [
    {
     "data": {
      "text/plain": [
       "nan"
      ]
     },
     "execution_count": 4,
     "metadata": {},
     "output_type": "execute_result"
    }
   ],
   "source": [
    "brett[0][0]"
   ]
  },
  {
   "cell_type": "code",
   "execution_count": 5,
   "metadata": {},
   "outputs": [
    {
     "data": {
      "text/plain": [
       "True"
      ]
     },
     "execution_count": 5,
     "metadata": {},
     "output_type": "execute_result"
    }
   ],
   "source": []
  },
  {
   "cell_type": "code",
   "execution_count": null,
   "metadata": {},
   "outputs": [],
   "source": []
  }
 ],
 "metadata": {
  "kernelspec": {
   "display_name": "Python 3",
   "language": "python",
   "name": "python3"
  },
  "language_info": {
   "codemirror_mode": {
    "name": "ipython",
    "version": 3
   },
   "file_extension": ".py",
   "mimetype": "text/x-python",
   "name": "python",
   "nbconvert_exporter": "python",
   "pygments_lexer": "ipython3",
   "version": "3.7.4"
  }
 },
 "nbformat": 4,
 "nbformat_minor": 4
}
