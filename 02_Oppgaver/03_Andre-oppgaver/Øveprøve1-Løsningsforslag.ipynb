{
 "cells": [
  {
   "cell_type": "markdown",
   "metadata": {},
   "source": [
    "# Øveprøve 1\n",
    "\n",
    "Det er ikke lov til å bruke innebygde funksjoner når du løser oppgavene.\n",
    "\n",
    "Unntak:\n",
    "```\n",
    "print(), len(), enumerate(), range(), int(), str(), \n",
    "```\n"
   ]
  },
  {
   "cell_type": "markdown",
   "metadata": {},
   "source": [
    "### Oppgave 0\n",
    "Skriv et program som beregner hvor mange kroner, $p$ prosent av $k$ kroner utgjør. Programmet skal be brukeren om verdiene til $p$ og $k$. \n",
    "\n",
    "Legg til nødvendige feilhånderinger av input\n",
    "\n",
    "#### Løsning:"
   ]
  },
  {
   "cell_type": "code",
   "execution_count": 20,
   "metadata": {},
   "outputs": [
    {
     "name": "stdin",
     "output_type": "stream",
     "text": [
      "Skriv inn prosent:  12\n",
      "Skriv inn  900\n"
     ]
    },
    {
     "name": "stdout",
     "output_type": "stream",
     "text": [
      "12% utgjør 108.00 kr av 900.00 kr\n"
     ]
    }
   ],
   "source": [
    "while True:\n",
    "    try:\n",
    "        p = int(input(\"Skriv inn prosent: \"))\n",
    "        k = int(input(\"Skriv inn \"))\n",
    "        \n",
    "        if p < 0:\n",
    "            print(\"p > 0\")\n",
    "        else:\n",
    "            break\n",
    "        \n",
    "    except: \n",
    "        print(\"Du må skrive inn heltall. Prøv igjen.\")\n",
    "        \n",
    "\n",
    "print(f'{p}% utgjør {p*k/100:.2f} kr av {k:.2f} kr')\n",
    "        "
   ]
  },
  {
   "cell_type": "markdown",
   "metadata": {},
   "source": [
    "### Oppgave 1\n",
    "Amerikanere er rare dyr. De har både Trump og Fahrenheit. Det er vanskelig å lage en funksjon som erstatter Trump med noen andre, men vi kan lage en funksjon som konverterer Fahrenheit til Celsius (ikke motsatt – det vil vi jo ikke!). Formelen er slik:\n",
    "\n",
    "$$T_C = (T_F-32)\\cdot \\frac{5}{9}$$\n",
    "\n",
    "der $T_C$ er temperaturen i Celsius og $T_F$ er temperaturen i Fahrenheit. \n",
    "Lag et program som konverterer Fahrenheit til Celsius gjennom en funksjon. \n",
    "\n",
    "#### Løsning:"
   ]
  },
  {
   "cell_type": "code",
   "execution_count": 7,
   "metadata": {},
   "outputs": [
    {
     "name": "stdin",
     "output_type": "stream",
     "text": [
      "Skriv inn Fahrenheit:  454\n"
     ]
    },
    {
     "name": "stdout",
     "output_type": "stream",
     "text": [
      "234.4 C\n"
     ]
    }
   ],
   "source": [
    "def konv_F_til_C(fahrenheit):\n",
    "    return (fahrenheit - 32)*5/9\n",
    "\n",
    "celsius = float(input(\"Skriv inn Fahrenheit: \"))\n",
    "\n",
    "print(f'{konv_F_til_C(celsius):.1f} C')"
   ]
  },
  {
   "cell_type": "markdown",
   "metadata": {},
   "source": [
    "### Oppgave 2 \n",
    "Lag en funksjon som tar to argument, a og b. Funksjonen skal returnere produktet av alle heltall fra og med a til og med b. \n",
    "\n",
    "Eksempel\n",
    " - input: 2, 5\n",
    " - output: 120\n",
    "\n",
    "#### Løsning:"
   ]
  },
  {
   "cell_type": "code",
   "execution_count": 28,
   "metadata": {},
   "outputs": [
    {
     "name": "stdout",
     "output_type": "stream",
     "text": [
      "120\n"
     ]
    }
   ],
   "source": [
    "def produkt(a, b):\n",
    "    prod = 1\n",
    "    for x in range(a, b+1):\n",
    "        prod *= x\n",
    "        \n",
    "    return prod\n",
    "                \n",
    "print(produkt(2, 5))"
   ]
  },
  {
   "cell_type": "markdown",
   "metadata": {},
   "source": [
    "### Oppgave 3 \n",
    "Lag en funksjon som tar en liste med tall som argument. Funksjonen skal returnere gjennomsnittet av alle tallene i lista.\n",
    "\n",
    "Eksempel\n",
    " - input: [1, 5, 2, 5, 2]\n",
    " - output: 3\n",
    "\n",
    "#### Løsning:"
   ]
  },
  {
   "cell_type": "code",
   "execution_count": 32,
   "metadata": {},
   "outputs": [
    {
     "name": "stdout",
     "output_type": "stream",
     "text": [
      "3.0\n"
     ]
    }
   ],
   "source": [
    "def returnerGjennomsnitt(liste):\n",
    "    sum = 0\n",
    "    for x in liste:\n",
    "        sum += x\n",
    "    \n",
    "    return sum/len(liste)\n",
    "\n",
    "print(f'{ returnerGjennomsnitt([1, 5, 2, 5, 2]):.1f}')"
   ]
  },
  {
   "cell_type": "markdown",
   "metadata": {},
   "source": [
    "### Oppgave 4\n",
    "Lag en funksjon som tar en liste med tall som argument. Funksjonen skal returnere det største tallet i lista.\n",
    "\n",
    "Eksempel\n",
    " - input: [1, 5, 2, 5, 2]\n",
    " - output: 5\n",
    "\n",
    "#### Løsning:"
   ]
  },
  {
   "cell_type": "code",
   "execution_count": 188,
   "metadata": {},
   "outputs": [
    {
     "name": "stdout",
     "output_type": "stream",
     "text": [
      "5.0\n"
     ]
    }
   ],
   "source": [
    "def returnerGjennomsnitt(liste):\n",
    "    max = liste[0]\n",
    "    for x in liste:\n",
    "        if x > max:\n",
    "            max = x\n",
    "    \n",
    "    return max\n",
    "\n",
    "print(f'{ returnerGjennomsnitt([1, 5, 2, 5, 2]):.1f}')"
   ]
  },
  {
   "cell_type": "markdown",
   "metadata": {},
   "source": [
    "### Oppgave 5 \n",
    "Lag en funksjon med tre parametere a, b og c, tilsvarende koeffisientene i andregradsfunksjoner av typen $f(x)=ax^2+bx+c$. La funksjonen løse andregradslikninger av typen $f(x)=0$ ved hjelp av andregradsformelen.\n",
    "\n",
    "#### Løsning:"
   ]
  },
  {
   "cell_type": "code",
   "execution_count": 182,
   "metadata": {},
   "outputs": [
    {
     "name": "stdout",
     "output_type": "stream",
     "text": [
      "x = -0.27 eller x = -3.73\n"
     ]
    }
   ],
   "source": [
    "def abc(a, b, c):\n",
    "    determinant = b**2 - 4*a*c\n",
    "    if determinant < 0:\n",
    "        print(\"Ingen løsninge\")\n",
    "        \n",
    "    elif determinant == 0:\n",
    "        print(f'x = {-b/(2*a):.2f}')\n",
    "        \n",
    "    else:\n",
    "        print(f'x = {(-b + determinant**(1/2))/(2*a):.2f} eller x = {(-b - determinant**(1/2))/(2*a):.2f}')\n",
    "   \n",
    "abc(1, 4, 1)"
   ]
  },
  {
   "cell_type": "markdown",
   "metadata": {},
   "source": [
    "### Oppgave 6\n",
    "\n",
    "Det har blitt rot i en database med ord. Mange tall har blandet seg inn mellom bokstavene i ordet.\n",
    "\n",
    "Lag en funksjon med som tar en streng som argument og fjerner tallene som ikke skal være der og returnerer ordet.\n",
    "\n",
    "\n",
    "Eksempel\n",
    " - input: 8B92i01l43\n",
    " - output: Bil\n",
    "\n",
    "#### Løsning:"
   ]
  },
  {
   "cell_type": "code",
   "execution_count": 48,
   "metadata": {},
   "outputs": [
    {
     "name": "stdout",
     "output_type": "stream",
     "text": [
      "Bil\n"
     ]
    }
   ],
   "source": [
    "def filter(streng):\n",
    "    tallene = ['0', '1', '2', '3', '4', '5', '6', '7', '8', '9']\n",
    "    ord = ''\n",
    "\n",
    "    for tegn in streng:\n",
    "        er_tall = False\n",
    "        for tall in tallene:\n",
    "            if tall == tegn:\n",
    "                er_tall = True\n",
    "\n",
    "        if not er_tall:\n",
    "            ord += tegn\n",
    "    \n",
    "    return ord\n",
    "\n",
    "print(filter('8B92i01l43'))"
   ]
  },
  {
   "cell_type": "code",
   "execution_count": 60,
   "metadata": {},
   "outputs": [
    {
     "name": "stdout",
     "output_type": "stream",
     "text": [
      "Bil\n"
     ]
    }
   ],
   "source": [
    "def filter(streng):\n",
    "    ord = ''\n",
    "\n",
    "    for tegn in streng:\n",
    "        try:\n",
    "            int(tegn)\n",
    "        \n",
    "        except:\n",
    "            ord += tegn\n",
    "            \n",
    "    return ord\n",
    "\n",
    "print(filter('8B92i01l43'))"
   ]
  },
  {
   "cell_type": "markdown",
   "metadata": {},
   "source": [
    "### Oppgave 7\n",
    "Lag et program som viser at summen av denne rekka er 4.5:\n",
    "\n",
    "$$3 + 1 +\\frac{1}{3} +\\frac{1}{9}+\\frac{1}{27}+...$$\n",
    "\n",
    "#### Løsning:"
   ]
  },
  {
   "cell_type": "code",
   "execution_count": 68,
   "metadata": {},
   "outputs": [
    {
     "name": "stdout",
     "output_type": "stream",
     "text": [
      "4.5000000000\n"
     ]
    }
   ],
   "source": [
    "a = 3\n",
    "d = 1\n",
    "for x in range(1000):\n",
    "    a += d\n",
    "    d = d/3\n",
    "    \n",
    "print(f'{a:.10f}')"
   ]
  },
  {
   "cell_type": "markdown",
   "metadata": {},
   "source": [
    "### Oppgave 8\n",
    "Skriv et program som tar inn et heltall fra brukeren. Programmet skal så sjekke om heltallet inneholder sifferet 7 og skrive ut resultatet.\n",
    "\n",
    "#### Løsning:"
   ]
  },
  {
   "cell_type": "code",
   "execution_count": 74,
   "metadata": {},
   "outputs": [
    {
     "name": "stdout",
     "output_type": "stream",
     "text": [
      "Tallet inneholder 6 sjuer(e)\n"
     ]
    }
   ],
   "source": [
    "def ant_sju(tall):\n",
    "    n = 0\n",
    "    tall = str(tall)\n",
    "    for siffer in tall:\n",
    "        if siffer == '7':\n",
    "            n += 1\n",
    "            \n",
    "    return n\n",
    "\n",
    "print(f'Tallet inneholder {ant_sju(34723547887173677)} sjuer(e).')"
   ]
  },
  {
   "cell_type": "markdown",
   "metadata": {},
   "source": [
    "### Oppgave 9\n",
    "Skriv et program som tar inn et heltall fra brukeren. Programmet skal så skrive ut et kryss der antall * i den ene armen i krysset stemmer med heltallet fra brukeren.\n",
    "\n",
    "Eksempel\n",
    " - input: 3\n",
    " - output: \n",
    "\n",
    "```\n",
    "     *     *\n",
    "      *   *\n",
    "       * *\n",
    "        *\n",
    "       * *\n",
    "      *   *\n",
    "     *     *\n",
    "````\n",
    "\n",
    " - input: 0\n",
    " - output: \n",
    "\n",
    "```\n",
    "        *\n",
    "````\n",
    "\n",
    "#### Løsning:"
   ]
  },
  {
   "cell_type": "code",
   "execution_count": 183,
   "metadata": {},
   "outputs": [
    {
     "name": "stdout",
     "output_type": "stream",
     "text": [
      "                                             *       *                                              \n",
      "                                              *     *                                               \n",
      "                                               *   *                                                \n",
      "                                                * *                                                 \n",
      "                                                 *                                                  \n",
      "                                                * *                                                 \n",
      "                                               *   *                                                \n",
      "                                              *     *                                               \n",
      "                                             *       *                                              \n"
     ]
    }
   ],
   "source": [
    "def stjerne(a):\n",
    "    for i in range(a-1,-1,-1):\n",
    "        print(f\"{'*' + ' '*i*2+' ' + '*':^100}\")\n",
    "\n",
    "    print(f\"{'*':^100}\")\n",
    "\n",
    "    for i in range(0, a):\n",
    "        print(f\"{'*' + ' '*i*2+' ' + '*':^100}\")\n",
    "        \n",
    "stjerne(4)"
   ]
  },
  {
   "cell_type": "code",
   "execution_count": null,
   "metadata": {},
   "outputs": [],
   "source": []
  }
 ],
 "metadata": {
  "kernelspec": {
   "display_name": "Python 3",
   "language": "python",
   "name": "python3"
  },
  "language_info": {
   "codemirror_mode": {
    "name": "ipython",
    "version": 3
   },
   "file_extension": ".py",
   "mimetype": "text/x-python",
   "name": "python",
   "nbconvert_exporter": "python",
   "pygments_lexer": "ipython3",
   "version": "3.7.5"
  }
 },
 "nbformat": 4,
 "nbformat_minor": 4
}
