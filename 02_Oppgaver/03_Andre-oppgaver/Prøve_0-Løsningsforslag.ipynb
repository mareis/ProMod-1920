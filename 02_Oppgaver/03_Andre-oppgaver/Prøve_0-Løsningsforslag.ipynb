{
 "cells": [
  {
   "cell_type": "markdown",
   "metadata": {},
   "source": [
    "# Prøve 0\n",
    "\n",
    "Ikke bruk innebygde funksjoner som  min, max, sort, sum, etc"
   ]
  },
  {
   "cell_type": "markdown",
   "metadata": {},
   "source": [
    "### Oppgave 0\n",
    "Skriv et program som beregner divisjone $\\frac{a}{b}$ Programmet skal be brukeren om verdiene til $a$ og $b$. \n",
    "\n",
    "Legg til nødvendige feilhånderinger av input\n",
    "\n",
    "#### Løsning:"
   ]
  },
  {
   "cell_type": "code",
   "execution_count": 62,
   "metadata": {},
   "outputs": [
    {
     "name": "stdin",
     "output_type": "stream",
     "text": [
      "Skriv inn et heltall:  1\n",
      "Skriv inn et heltall til  0\n"
     ]
    },
    {
     "name": "stdout",
     "output_type": "stream",
     "text": [
      "Det siste tallet kan ikke være 0\n"
     ]
    },
    {
     "name": "stdin",
     "output_type": "stream",
     "text": [
      "Skriv inn et heltall:  7\n",
      "Skriv inn et heltall til  9\n"
     ]
    },
    {
     "name": "stdout",
     "output_type": "stream",
     "text": [
      "7/9 = 0.78\n"
     ]
    }
   ],
   "source": [
    "while True:\n",
    "    try:\n",
    "        a = int(input(\"Skriv inn et heltall: \"))\n",
    "        b = int(input(\"Skriv inn et heltall til \"))\n",
    "        \n",
    "        if b == 0:\n",
    "            print(\"Det siste tallet kan ikke være 0\")\n",
    "        else:\n",
    "            break\n",
    "        \n",
    "    except: \n",
    "        print(\"Du må skrive inn heltall. Prøv igjen.\")\n",
    "        \n",
    "\n",
    "print(f'{a}/{b} = {a/b:.2f}') "
   ]
  },
  {
   "cell_type": "markdown",
   "metadata": {},
   "source": [
    "### Oppgave 1\n",
    "\n",
    "Les inn et heltall, som skal representere variheten til en gitt hendelse. Gjør om fra sikunder til dette formatet:\n",
    "\n",
    "timer:minutter:sekunder\n",
    "\n",
    "| Input | Output  |  \n",
    "|---|---|\n",
    "|  556 | 0:9:16  |\n",
    "|  1 | 0:0:1 |\n",
    "|  140153 | 38:55:53  |\n",
    "\n",
    "\n",
    "\n",
    "#### Løsning:"
   ]
  },
  {
   "cell_type": "code",
   "execution_count": 30,
   "metadata": {},
   "outputs": [
    {
     "data": {
      "text/plain": [
       "'38:55:53'"
      ]
     },
     "execution_count": 30,
     "metadata": {},
     "output_type": "execute_result"
    }
   ],
   "source": [
    "tall = 140153 #int(input('Sekunder: '))\n",
    "\n",
    "timer = tall//(60*60)\n",
    "rest = tall%(60*60)\n",
    "minutter = rest//60\n",
    "sekunder = rest%60\n",
    "\n",
    "f'{timer}:{minutter}:{sekunder}'"
   ]
  },
  {
   "cell_type": "markdown",
   "metadata": {},
   "source": [
    "### Oppgave 2 \n",
    "Lag en funksjon som tar 3 argument, a, b og c. Funksjonen skal returnere **True** hvis enten summen av a pluss b er mindre enn c, eller hvis er c er et partall. Returner **False** ellers. \n",
    "\n",
    "Eksempel\n",
    "\n",
    "| Input | Output  |  \n",
    "|---|---|\n",
    "|  1, 2, 3 | False |\n",
    "|  -124, -18, 0 | True |\n",
    "\n",
    "#### Løsning:"
   ]
  },
  {
   "cell_type": "code",
   "execution_count": 31,
   "metadata": {},
   "outputs": [
    {
     "data": {
      "text/plain": [
       "True"
      ]
     },
     "execution_count": 31,
     "metadata": {},
     "output_type": "execute_result"
    }
   ],
   "source": [
    "def func(a, b, c):\n",
    "    return a + b < c or c%2 == 0\n",
    "\n",
    "func(-124, -18, 0)"
   ]
  },
  {
   "cell_type": "markdown",
   "metadata": {},
   "source": [
    "### Oppgave 3 \n",
    "Lag en funksjon som tar 2 heltall som argumenter. Funksjonen skal returnere gjennomsnittet av alle tallene fra og med det første til og med det siste tallet.\n",
    "\n",
    "Eksempel\n",
    "\n",
    "|Input | Output |\n",
    "|---|---|\n",
    "|0, -1| -0.5|\n",
    "|100, 105| 102.5|\n",
    "\n",
    "#### Løsning:"
   ]
  },
  {
   "cell_type": "code",
   "execution_count": 43,
   "metadata": {},
   "outputs": [
    {
     "data": {
      "text/plain": [
       "-0.5"
      ]
     },
     "execution_count": 43,
     "metadata": {},
     "output_type": "execute_result"
    }
   ],
   "source": [
    "def gjennomsnitt(a, b):\n",
    "    sum = 0\n",
    "    if b < a: i=-1\n",
    "    else: i = 1\n",
    "    for x in range(a, b+i, i):\n",
    "        sum += x\n",
    "        \n",
    "    return sum/((abs(a-b)+1))\n",
    "\n",
    "gjennomsnitt(0, -1)"
   ]
  },
  {
   "cell_type": "markdown",
   "metadata": {},
   "source": [
    "### Oppgave 4\n",
    "Lag en funksjon som tar en liste med tall som argument. Funksjonen skal returnere produkte av alle tallene i lista.\n",
    "\n",
    "Eksempel:\n",
    "\n",
    "| Input  |Output |\n",
    "|---|---|\n",
    "|[-5,7,4,0] |0|\n",
    "|[1.5, 20, -1]| -30|\n",
    "\n",
    "#### Løsning:"
   ]
  },
  {
   "cell_type": "code",
   "execution_count": 44,
   "metadata": {},
   "outputs": [
    {
     "data": {
      "text/plain": [
       "-30.0"
      ]
     },
     "execution_count": 44,
     "metadata": {},
     "output_type": "execute_result"
    }
   ],
   "source": [
    "def produkt(liste):\n",
    "    prod = 1\n",
    "    for tall in liste:\n",
    "        prod *= tall\n",
    "        \n",
    "    return prod\n",
    "\n",
    "produkt([1.5, 20, -1])"
   ]
  },
  {
   "cell_type": "markdown",
   "metadata": {},
   "source": [
    "### Oppgave 5 \n",
    "Lag en funksjon som tar en liste som argument og returnerer det  minste tallet i lista.\n",
    "\n",
    "| Input  |Output |\n",
    "|---|---|\n",
    "|[0, 1, -67] |-67|\n",
    "|[100, 105]| 100|\n",
    "\n",
    "#### Løsning:"
   ]
  },
  {
   "cell_type": "code",
   "execution_count": 45,
   "metadata": {},
   "outputs": [
    {
     "data": {
      "text/plain": [
       "-67"
      ]
     },
     "execution_count": 45,
     "metadata": {},
     "output_type": "execute_result"
    }
   ],
   "source": [
    "def min_liste(liste):\n",
    "    min = liste[0]\n",
    "    for x in liste:\n",
    "        if x < min:\n",
    "            min = x\n",
    "    \n",
    "    return min\n",
    "\n",
    "min_liste([0, 1, -67])"
   ]
  },
  {
   "cell_type": "markdown",
   "metadata": {},
   "source": [
    "### Oppgave 6\n",
    "\n",
    "Det har blitt rot i en database med tall. Mange bokstaver har blandet seg inn mellom tallene.\n",
    "\n",
    "Lag en funksjon som tar en streng som argument og returnerer summen av tallene i strengen.\n",
    "\n",
    "\n",
    "Eksempel\n",
    "\n",
    "| Input  |Output |\n",
    "|---|---|\n",
    "|Ab23s249ttu21| 23 |\n",
    "|At01v021kkk12 |7|\n",
    "\n",
    "#### Løsning:"
   ]
  },
  {
   "cell_type": "code",
   "execution_count": 47,
   "metadata": {},
   "outputs": [
    {
     "data": {
      "text/plain": [
       "23"
      ]
     },
     "execution_count": 47,
     "metadata": {},
     "output_type": "execute_result"
    }
   ],
   "source": [
    "def summen(streng):\n",
    "    tallene = ['0', '1', '2', '3', '4', '5', '6', '7', '8', '9']\n",
    "    sum = 0\n",
    "    for tegn in streng:\n",
    "        for tall in tallene:\n",
    "            if tall == tegn:\n",
    "                sum += int(tall)\n",
    "                \n",
    "    return sum\n",
    "\n",
    "\n",
    "summen('Ab23s249ttu21') "
   ]
  },
  {
   "cell_type": "markdown",
   "metadata": {},
   "source": [
    "### Oppgave 7\n",
    "Lag en funksjon som tar en liste og et tall som argument og returnerer indeksen tallet i listen. Returner -1 hvis tallet ikke inngår i lista.\n",
    "\n",
    "| Input  |Output |\n",
    "|---|---|\n",
    "|[1,2,3,4,5], 3| 2|\n",
    "|[-124, -18, 0], 1.1| -1|\n",
    "\n",
    "#### Løsning:"
   ]
  },
  {
   "cell_type": "code",
   "execution_count": 50,
   "metadata": {},
   "outputs": [
    {
     "data": {
      "text/plain": [
       "2"
      ]
     },
     "execution_count": 50,
     "metadata": {},
     "output_type": "execute_result"
    }
   ],
   "source": [
    "def indeks(liste, tall):\n",
    "    for i in range(len(liste)):\n",
    "        if liste[i] == tall:\n",
    "            return i\n",
    "    \n",
    "    return -1\n",
    "\n",
    "indeks([1,2,3,4,5], 3)        "
   ]
  },
  {
   "cell_type": "markdown",
   "metadata": {},
   "source": [
    "### Oppgave 8\n",
    "Skriv en funksjon som tar to heltall som argument og skriver ut en ramme av *\n",
    "\n",
    "Eksempel\n",
    " - input: 2, 2\n",
    " - output: \n",
    "\n",
    "```\n",
    "     * *\n",
    "     * *\n",
    "````\n",
    "\n",
    " - input: 4, 5\n",
    " - output: \n",
    "\n",
    "```\n",
    "    * * * *\n",
    "    *     *\n",
    "    *     *\n",
    "    *     *\n",
    "    * * * *  \n",
    "````\n",
    "\n",
    "#### Løsning:"
   ]
  },
  {
   "cell_type": "code",
   "execution_count": 61,
   "metadata": {},
   "outputs": [
    {
     "name": "stdout",
     "output_type": "stream",
     "text": [
      "* * * * * * * * \n",
      "*             *\n",
      "*             *\n",
      "*             *\n",
      "* * * * * * * * \n"
     ]
    }
   ],
   "source": [
    "def ramme(x, y):\n",
    "    print(x*'* ')\n",
    "    for i in range(y-2):\n",
    "        print(f'* {(x-2)*\"  \"}*')\n",
    "    print(x*'* ')\n",
    "    \n",
    "ramme(8, 5)"
   ]
  },
  {
   "cell_type": "code",
   "execution_count": null,
   "metadata": {},
   "outputs": [],
   "source": []
  }
 ],
 "metadata": {
  "kernelspec": {
   "display_name": "Python 3",
   "language": "python",
   "name": "python3"
  },
  "language_info": {
   "codemirror_mode": {
    "name": "ipython",
    "version": 3
   },
   "file_extension": ".py",
   "mimetype": "text/x-python",
   "name": "python",
   "nbconvert_exporter": "python",
   "pygments_lexer": "ipython3",
   "version": "3.7.5"
  }
 },
 "nbformat": 4,
 "nbformat_minor": 4
}
