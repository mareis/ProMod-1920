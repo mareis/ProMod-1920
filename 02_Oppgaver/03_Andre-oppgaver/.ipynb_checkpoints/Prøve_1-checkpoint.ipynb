{
 "cells": [
  {
   "cell_type": "markdown",
   "metadata": {},
   "source": [
    "# Prøve 0\n",
    "\n",
    "Ikke bruk innebygde funksjoner som  min, max, sort, sum, etc"
   ]
  },
  {
   "cell_type": "markdown",
   "metadata": {},
   "source": [
    "### Oppgave 0\n",
    "Skriv et program som beregner divisjone $\\frac{a}{b}$ Programmet skal be brukeren om verdiene til $a$ og $b$. \n",
    "\n",
    "Legg til nødvendige feilhånderinger av input\n",
    "\n",
    "#### Løsning:"
   ]
  },
  {
   "cell_type": "code",
   "execution_count": null,
   "metadata": {},
   "outputs": [],
   "source": []
  },
  {
   "cell_type": "markdown",
   "metadata": {},
   "source": [
    "### Oppgave 1\n",
    "\n",
    "Les inn et heltall, som skal representere variheten til en gitt hendelse. Gjør om fra sikunder til dette formatet:\n",
    "\n",
    "timer:minutter:sekunder\n",
    "\n",
    "| Input | Output  |  \n",
    "|---|---|\n",
    "|  556 | 0:9:16  |\n",
    "|  1 | 0:0:1 |\n",
    "|  140153 | 38:55:53  |\n",
    "\n",
    "\n",
    "\n",
    "#### Løsning:"
   ]
  },
  {
   "cell_type": "code",
   "execution_count": null,
   "metadata": {},
   "outputs": [],
   "source": []
  },
  {
   "cell_type": "markdown",
   "metadata": {},
   "source": [
    "### Oppgave 2 \n",
    "Lag en funksjon som tar 3 argument, a, b og c. Funksjonen skal returnere **True** hvis enten summen av a pluss b er mindre enn c, eller hvis er c er et partall. Returner **False** ellers. \n",
    "\n",
    "Eksempel\n",
    "\n",
    "| Input | Output  |  \n",
    "|---|---|\n",
    "|  1, 2, 3 | False |\n",
    "|  -124, -18, 0 | True |\n",
    "\n",
    "#### Løsning:"
   ]
  },
  {
   "cell_type": "code",
   "execution_count": null,
   "metadata": {},
   "outputs": [],
   "source": []
  },
  {
   "cell_type": "markdown",
   "metadata": {},
   "source": [
    "### Oppgave 3 \n",
    "Lag en funksjon som tar 2 heltall som argumenter. Funksjonen skal returnere gjennomsnittet av alle tallene fra og med det første til og med det siste tallet.\n",
    "\n",
    "Eksempel\n",
    "\n",
    "|Input | Output |\n",
    "|---|---|\n",
    "|0, -1| -0.5|\n",
    "|100, 105| 102.5|\n",
    "\n",
    "#### Løsning:"
   ]
  },
  {
   "cell_type": "code",
   "execution_count": null,
   "metadata": {},
   "outputs": [],
   "source": []
  },
  {
   "cell_type": "markdown",
   "metadata": {},
   "source": [
    "### Oppgave 4\n",
    "Lag en funksjon som tar en liste med tall som argument. Funksjonen skal returnere produkte av alle tallene i lista.\n",
    "\n",
    "Eksempel:\n",
    "\n",
    "| Input  |Output |\n",
    "|---|---|\n",
    "|[-5,7,4,0] |0|\n",
    "|[1.5, 20, -1]| -30|\n",
    "\n",
    "#### Løsning:"
   ]
  },
  {
   "cell_type": "code",
   "execution_count": null,
   "metadata": {},
   "outputs": [],
   "source": []
  },
  {
   "cell_type": "markdown",
   "metadata": {},
   "source": [
    "### Oppgave 5 \n",
    "Lag en funksjon som tar en liste som argument og returnerer det  minste tallet i lista.\n",
    "\n",
    "| Input  |Output |\n",
    "|---|---|\n",
    "|[0, 1, -67] |-67|\n",
    "|[100, 105]| 100|\n",
    "\n",
    "#### Løsning:"
   ]
  },
  {
   "cell_type": "code",
   "execution_count": null,
   "metadata": {},
   "outputs": [],
   "source": []
  },
  {
   "cell_type": "markdown",
   "metadata": {},
   "source": [
    "### Oppgave 6\n",
    "\n",
    "Det har blitt rot i en database med tall. Mange bokstaver har blandet seg inn mellom tallene.\n",
    "\n",
    "Lag en funksjon med som tar en streng som argument og returnerer summen av tallene i strengen.\n",
    "\n",
    "\n",
    "Eksempel\n",
    "\n",
    "| Input  |Output |\n",
    "|---|---|\n",
    "|Ab23s249ttu21| 23 |\n",
    "|At01v021kkk12 |7|\n",
    "\n",
    "#### Løsning:"
   ]
  },
  {
   "cell_type": "code",
   "execution_count": null,
   "metadata": {},
   "outputs": [],
   "source": []
  },
  {
   "cell_type": "markdown",
   "metadata": {},
   "source": [
    "### Oppgave 7\n",
    "Lag en funksjon som tar en liste og et tall som argument og returnerer indeksen tallet i listen. Returner -1 hvis tallet ikke inngår i lista.\n",
    "\n",
    "| Input  |Output |\n",
    "|---|---|\n",
    "|[1,2,3,4,5], 3| 2|\n",
    "|[-124, -18, 0], 1.1| -1|\n",
    "\n",
    "#### Løsning:"
   ]
  },
  {
   "cell_type": "code",
   "execution_count": null,
   "metadata": {},
   "outputs": [],
   "source": []
  },
  {
   "cell_type": "markdown",
   "metadata": {},
   "source": [
    "### Oppgave 8\n",
    "Skriv en funksjon som tar to heltall som argument og skriver ut en ramme av *\n",
    "\n",
    "Eksempel\n",
    " - input: 2, 2\n",
    " - output: \n",
    "\n",
    "```\n",
    "     * *\n",
    "     * *\n",
    "````\n",
    "\n",
    " - input: 4, 5\n",
    " - output: \n",
    "\n",
    "```\n",
    "    *****\n",
    "    *   *\n",
    "    *   *\n",
    "    *   *\n",
    "    *****  \n",
    "````\n",
    "\n",
    "#### Løsning:"
   ]
  },
  {
   "cell_type": "code",
   "execution_count": null,
   "metadata": {},
   "outputs": [],
   "source": []
  }
 ],
 "metadata": {
  "kernelspec": {
   "display_name": "Python 3",
   "language": "python",
   "name": "python3"
  },
  "language_info": {
   "codemirror_mode": {
    "name": "ipython",
    "version": 3
   },
   "file_extension": ".py",
   "mimetype": "text/x-python",
   "name": "python",
   "nbconvert_exporter": "python",
   "pygments_lexer": "ipython3",
   "version": "3.7.5"
  }
 },
 "nbformat": 4,
 "nbformat_minor": 4
}
