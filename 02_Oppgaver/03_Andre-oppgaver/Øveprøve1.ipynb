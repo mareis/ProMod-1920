{
 "cells": [
  {
   "cell_type": "markdown",
   "metadata": {},
   "source": [
    "# Øveprøve 1\n",
    "\n",
    "Det er ikke lov til å bruke innebygde funksjoner når du løser oppgavene.\n",
    "\n",
    "Unntak:\n",
    "```\n",
    "print(), len(), enumerate(), range(), int(), str() \n",
    "```\n"
   ]
  },
  {
   "cell_type": "markdown",
   "metadata": {},
   "source": [
    "### Oppgave 0\n",
    "Skriv et program som beregner hvor mange kroner, $p$ prosent av $k$ kroner utgjør. Programmet skal be brukeren om verdiene til $p$ og $k$. \n",
    "\n",
    "Legg til nødvendige feilhånderinger av input\n",
    "\n",
    "#### Løsning:"
   ]
  },
  {
   "cell_type": "code",
   "execution_count": null,
   "metadata": {},
   "outputs": [],
   "source": []
  },
  {
   "cell_type": "markdown",
   "metadata": {},
   "source": [
    "### Oppgave 1\n",
    "Amerikanere er rare dyr. De har både Trump og Fahrenheit. Det er vanskelig å lage en funksjon som erstatter Trump med noen andre, men vi kan lage en funksjon som konverterer Fahrenheit til Celsius (ikke motsatt – det vil vi jo ikke!). Formelen er slik:\n",
    "\n",
    "$$T_C = (T_F-32)\\cdot \\frac{5}{9}$$\n",
    "\n",
    "der $T_C$ er temperaturen i Celsius og $T_F$ er temperaturen i Fahrenheit. \n",
    "Lag et program som konverterer Fahrenheit til Celsius gjennom en funksjon. \n",
    "\n",
    "#### Løsning:"
   ]
  },
  {
   "cell_type": "code",
   "execution_count": null,
   "metadata": {},
   "outputs": [],
   "source": []
  },
  {
   "cell_type": "markdown",
   "metadata": {},
   "source": [
    "### Oppgave 2 \n",
    "Lag en funksjon som tar to argument, a og b. Funksjonen skal returnere produktet av alle heltall fra og med a til og med b. \n",
    "\n",
    "Eksempel\n",
    " - input: 2, 5\n",
    " - output: 120\n",
    "\n",
    "#### Løsning:"
   ]
  },
  {
   "cell_type": "code",
   "execution_count": null,
   "metadata": {},
   "outputs": [],
   "source": []
  },
  {
   "cell_type": "markdown",
   "metadata": {},
   "source": [
    "### Oppgave 3 \n",
    "Lag en funksjon som tar en liste med tall som argument. Funksjonen skal returnere gjennomsnittet av alle tallene i lista.\n",
    "\n",
    "Eksempel\n",
    " - input: [1, 5, 2, 5, 2]\n",
    " - output: 3\n",
    "\n",
    "#### Løsning:"
   ]
  },
  {
   "cell_type": "code",
   "execution_count": null,
   "metadata": {},
   "outputs": [],
   "source": []
  },
  {
   "cell_type": "markdown",
   "metadata": {},
   "source": [
    "### Oppgave 4\n",
    "Lag en funksjon som tar en liste med tall som argument. Funksjonen skal returnere det største tallet i lista.\n",
    "\n",
    "Eksempel\n",
    " - input: [1, 5, 2, 5, 2]\n",
    " - output: 5\n",
    "\n",
    "#### Løsning:"
   ]
  },
  {
   "cell_type": "code",
   "execution_count": null,
   "metadata": {},
   "outputs": [],
   "source": []
  },
  {
   "cell_type": "markdown",
   "metadata": {},
   "source": [
    "### Oppgave 5 \n",
    "Lag en funksjon med tre parametere a, b og c, tilsvarende koeffisientene i andregradsfunksjoner av typen $f(x)=ax^2+bx+c$. La funksjonen løse andregradslikninger av typen $f(x)=0$ ved hjelp av andregradsformelen.\n",
    "\n",
    "#### Løsning:"
   ]
  },
  {
   "cell_type": "code",
   "execution_count": null,
   "metadata": {},
   "outputs": [],
   "source": []
  },
  {
   "cell_type": "markdown",
   "metadata": {},
   "source": [
    "### Oppgave 6\n",
    "\n",
    "Det har blitt rot i en database med ord. Mange tall har blandet seg inn mellom bokstavene i ordet.\n",
    "\n",
    "Lag en funksjon med som tar en streng som argument og fjerner tallene som ikke skal være der og returnerer ordet.\n",
    "\n",
    "\n",
    "Eksempel\n",
    " - input: 8B92i01l43\n",
    " - output: Bil\n",
    "\n",
    "#### Løsning:"
   ]
  },
  {
   "cell_type": "code",
   "execution_count": null,
   "metadata": {},
   "outputs": [],
   "source": []
  },
  {
   "cell_type": "markdown",
   "metadata": {},
   "source": [
    "### Oppgave 7\n",
    "Lag et program som viser at summen av denne rekka er 4.5:\n",
    "\n",
    "$$3 + 1 +\\frac{1}{3} +\\frac{1}{9}+\\frac{1}{27}+...$$\n",
    "\n",
    "#### Løsning:"
   ]
  },
  {
   "cell_type": "code",
   "execution_count": null,
   "metadata": {},
   "outputs": [],
   "source": []
  },
  {
   "cell_type": "markdown",
   "metadata": {},
   "source": [
    "### Oppgave 8\n",
    "Skriv et program som tar inn et heltall fra brukeren. Programmet skal så sjekke om heltallet inneholder sifferet 7 og skrive ut resultatet.\n",
    "\n",
    "#### Løsning:"
   ]
  },
  {
   "cell_type": "code",
   "execution_count": null,
   "metadata": {},
   "outputs": [],
   "source": []
  },
  {
   "cell_type": "markdown",
   "metadata": {},
   "source": [
    "### Oppgave 9\n",
    "Skriv et program som tar inn et heltall fra brukeren. Programmet skal så skrive ut et kryss der antall * i den ene armen i krysset stemmer med heltallet fra brukeren.\n",
    "\n",
    "Eksempel\n",
    " - input: 3\n",
    " - output: \n",
    "\n",
    "```\n",
    "     *     *\n",
    "      *   *\n",
    "       * *\n",
    "        *\n",
    "       * *\n",
    "      *   *\n",
    "     *     *\n",
    "````\n",
    "\n",
    " - input: 0\n",
    " - output: \n",
    "\n",
    "```\n",
    "        *\n",
    "````\n",
    "\n",
    "#### Løsning:"
   ]
  },
  {
   "cell_type": "code",
   "execution_count": null,
   "metadata": {},
   "outputs": [],
   "source": []
  }
 ],
 "metadata": {
  "kernelspec": {
   "display_name": "Python 3",
   "language": "python",
   "name": "python3"
  },
  "language_info": {
   "codemirror_mode": {
    "name": "ipython",
    "version": 3
   },
   "file_extension": ".py",
   "mimetype": "text/x-python",
   "name": "python",
   "nbconvert_exporter": "python",
   "pygments_lexer": "ipython3",
   "version": "3.7.5"
  }
 },
 "nbformat": 4,
 "nbformat_minor": 4
}
